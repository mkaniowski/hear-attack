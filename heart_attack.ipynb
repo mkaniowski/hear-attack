{
 "cells": [
  {
   "cell_type": "code",
   "execution_count": 115,
   "metadata": {},
   "outputs": [],
   "source": [
    "import os\n",
    "import pandas as pd\n",
    "import matplotlib.pyplot as plt\n",
    "import seaborn as sns\n",
    "import numpy as np"
   ]
  },
  {
   "cell_type": "code",
   "execution_count": 116,
   "metadata": {},
   "outputs": [],
   "source": [
    "filepath = os.path.join(os.path.abspath(''), 'data', 'heart.csv')\n",
    "heart = pd.read_csv(filepath)"
   ]
  },
  {
   "attachments": {},
   "cell_type": "markdown",
   "metadata": {},
   "source": [
    "# Data analysis"
   ]
  },
  {
   "cell_type": "code",
   "execution_count": 117,
   "metadata": {},
   "outputs": [
    {
     "data": {
      "text/html": [
       "<div>\n",
       "<style scoped>\n",
       "    .dataframe tbody tr th:only-of-type {\n",
       "        vertical-align: middle;\n",
       "    }\n",
       "\n",
       "    .dataframe tbody tr th {\n",
       "        vertical-align: top;\n",
       "    }\n",
       "\n",
       "    .dataframe thead th {\n",
       "        text-align: right;\n",
       "    }\n",
       "</style>\n",
       "<table border=\"1\" class=\"dataframe\">\n",
       "  <thead>\n",
       "    <tr style=\"text-align: right;\">\n",
       "      <th></th>\n",
       "      <th>age</th>\n",
       "      <th>sex</th>\n",
       "      <th>cp</th>\n",
       "      <th>trtbps</th>\n",
       "      <th>chol</th>\n",
       "      <th>fbs</th>\n",
       "      <th>restecg</th>\n",
       "      <th>thalachh</th>\n",
       "      <th>exng</th>\n",
       "      <th>oldpeak</th>\n",
       "      <th>slp</th>\n",
       "      <th>caa</th>\n",
       "      <th>thall</th>\n",
       "      <th>output</th>\n",
       "    </tr>\n",
       "  </thead>\n",
       "  <tbody>\n",
       "    <tr>\n",
       "      <th>0</th>\n",
       "      <td>63</td>\n",
       "      <td>1</td>\n",
       "      <td>3</td>\n",
       "      <td>145</td>\n",
       "      <td>233</td>\n",
       "      <td>1</td>\n",
       "      <td>0</td>\n",
       "      <td>150</td>\n",
       "      <td>0</td>\n",
       "      <td>2.3</td>\n",
       "      <td>0</td>\n",
       "      <td>0</td>\n",
       "      <td>1</td>\n",
       "      <td>1</td>\n",
       "    </tr>\n",
       "    <tr>\n",
       "      <th>1</th>\n",
       "      <td>37</td>\n",
       "      <td>1</td>\n",
       "      <td>2</td>\n",
       "      <td>130</td>\n",
       "      <td>250</td>\n",
       "      <td>0</td>\n",
       "      <td>1</td>\n",
       "      <td>187</td>\n",
       "      <td>0</td>\n",
       "      <td>3.5</td>\n",
       "      <td>0</td>\n",
       "      <td>0</td>\n",
       "      <td>2</td>\n",
       "      <td>1</td>\n",
       "    </tr>\n",
       "    <tr>\n",
       "      <th>2</th>\n",
       "      <td>41</td>\n",
       "      <td>0</td>\n",
       "      <td>1</td>\n",
       "      <td>130</td>\n",
       "      <td>204</td>\n",
       "      <td>0</td>\n",
       "      <td>0</td>\n",
       "      <td>172</td>\n",
       "      <td>0</td>\n",
       "      <td>1.4</td>\n",
       "      <td>2</td>\n",
       "      <td>0</td>\n",
       "      <td>2</td>\n",
       "      <td>1</td>\n",
       "    </tr>\n",
       "    <tr>\n",
       "      <th>3</th>\n",
       "      <td>56</td>\n",
       "      <td>1</td>\n",
       "      <td>1</td>\n",
       "      <td>120</td>\n",
       "      <td>236</td>\n",
       "      <td>0</td>\n",
       "      <td>1</td>\n",
       "      <td>178</td>\n",
       "      <td>0</td>\n",
       "      <td>0.8</td>\n",
       "      <td>2</td>\n",
       "      <td>0</td>\n",
       "      <td>2</td>\n",
       "      <td>1</td>\n",
       "    </tr>\n",
       "    <tr>\n",
       "      <th>4</th>\n",
       "      <td>57</td>\n",
       "      <td>0</td>\n",
       "      <td>0</td>\n",
       "      <td>120</td>\n",
       "      <td>354</td>\n",
       "      <td>0</td>\n",
       "      <td>1</td>\n",
       "      <td>163</td>\n",
       "      <td>1</td>\n",
       "      <td>0.6</td>\n",
       "      <td>2</td>\n",
       "      <td>0</td>\n",
       "      <td>2</td>\n",
       "      <td>1</td>\n",
       "    </tr>\n",
       "  </tbody>\n",
       "</table>\n",
       "</div>"
      ],
      "text/plain": [
       "   age  sex  cp  trtbps  chol  fbs  restecg  thalachh  exng  oldpeak  slp   \n",
       "0   63    1   3     145   233    1        0       150     0      2.3    0  \\\n",
       "1   37    1   2     130   250    0        1       187     0      3.5    0   \n",
       "2   41    0   1     130   204    0        0       172     0      1.4    2   \n",
       "3   56    1   1     120   236    0        1       178     0      0.8    2   \n",
       "4   57    0   0     120   354    0        1       163     1      0.6    2   \n",
       "\n",
       "   caa  thall  output  \n",
       "0    0      1       1  \n",
       "1    0      2       1  \n",
       "2    0      2       1  \n",
       "3    0      2       1  \n",
       "4    0      2       1  "
      ]
     },
     "execution_count": 117,
     "metadata": {},
     "output_type": "execute_result"
    }
   ],
   "source": [
    "heart.head()"
   ]
  },
  {
   "cell_type": "code",
   "execution_count": 118,
   "metadata": {},
   "outputs": [
    {
     "name": "stdout",
     "output_type": "stream",
     "text": [
      "<class 'pandas.core.frame.DataFrame'>\n",
      "RangeIndex: 303 entries, 0 to 302\n",
      "Data columns (total 14 columns):\n",
      " #   Column    Non-Null Count  Dtype  \n",
      "---  ------    --------------  -----  \n",
      " 0   age       303 non-null    int64  \n",
      " 1   sex       303 non-null    int64  \n",
      " 2   cp        303 non-null    int64  \n",
      " 3   trtbps    303 non-null    int64  \n",
      " 4   chol      303 non-null    int64  \n",
      " 5   fbs       303 non-null    int64  \n",
      " 6   restecg   303 non-null    int64  \n",
      " 7   thalachh  303 non-null    int64  \n",
      " 8   exng      303 non-null    int64  \n",
      " 9   oldpeak   303 non-null    float64\n",
      " 10  slp       303 non-null    int64  \n",
      " 11  caa       303 non-null    int64  \n",
      " 12  thall     303 non-null    int64  \n",
      " 13  output    303 non-null    int64  \n",
      "dtypes: float64(1), int64(13)\n",
      "memory usage: 33.3 KB\n"
     ]
    }
   ],
   "source": [
    "heart.info()"
   ]
  },
  {
   "cell_type": "code",
   "execution_count": 119,
   "metadata": {},
   "outputs": [
    {
     "data": {
      "text/plain": [
       "age         0\n",
       "sex         0\n",
       "cp          0\n",
       "trtbps      0\n",
       "chol        0\n",
       "fbs         0\n",
       "restecg     0\n",
       "thalachh    0\n",
       "exng        0\n",
       "oldpeak     0\n",
       "slp         0\n",
       "caa         0\n",
       "thall       0\n",
       "output      0\n",
       "dtype: int64"
      ]
     },
     "execution_count": 119,
     "metadata": {},
     "output_type": "execute_result"
    }
   ],
   "source": [
    "heart.isnull().sum()\n"
   ]
  },
  {
   "attachments": {},
   "cell_type": "markdown",
   "metadata": {},
   "source": [
    "# Models"
   ]
  },
  {
   "cell_type": "code",
   "execution_count": 120,
   "metadata": {},
   "outputs": [],
   "source": [
    "from sklearn.model_selection import train_test_split\n",
    "from sklearn.preprocessing import robust_scale\n",
    "from sklearn.linear_model import LogisticRegression\n",
    "from sklearn.metrics import accuracy_score"
   ]
  },
  {
   "cell_type": "code",
   "execution_count": 121,
   "metadata": {},
   "outputs": [],
   "source": [
    "df = heart\n",
    "\n",
    "df_ = pd.get_dummies(df, columns=['sex', 'cp', 'fbs', 'restecg', 'exng', 'slp', 'caa', 'thall'], drop_first = True)"
   ]
  },
  {
   "cell_type": "code",
   "execution_count": 122,
   "metadata": {},
   "outputs": [],
   "source": [
    "X_ = df_.drop(['output'], axis=1)\n",
    "y = df_['output']"
   ]
  },
  {
   "cell_type": "code",
   "execution_count": 123,
   "metadata": {},
   "outputs": [],
   "source": [
    "for col in ['age', 'trtbps', 'chol', 'thalachh', 'oldpeak']:\n",
    "    X_[col] = robust_scale(X_[col])"
   ]
  },
  {
   "cell_type": "code",
   "execution_count": 124,
   "metadata": {},
   "outputs": [],
   "source": [
    "X_train, X_test, y_train, y_test = train_test_split(X_, y, test_size = 0.3, random_state = 521)"
   ]
  },
  {
   "attachments": {},
   "cell_type": "markdown",
   "metadata": {},
   "source": [
    "# Logistic Regression"
   ]
  },
  {
   "cell_type": "code",
   "execution_count": 125,
   "metadata": {},
   "outputs": [],
   "source": [
    "score = 0\n",
    "scores = []\n",
    "\n",
    "for i in np.logspace(-5, 5, 100):\n",
    "    clf = LogisticRegression(random_state=563, penalty='l2', C=i, max_iter=1000, solver='liblinear').fit(X_train, y_train)\n",
    "    scores.append(clf.score(X_test, y_test))\n",
    "    if scores[-1] > score:\n",
    "        score = clf.score(X_test, y_test)\n",
    "        alpha = i"
   ]
  },
  {
   "cell_type": "code",
   "execution_count": 126,
   "metadata": {},
   "outputs": [
    {
     "name": "stdout",
     "output_type": "stream",
     "text": [
      "2.2570197196339215\n"
     ]
    }
   ],
   "source": [
    "print(alpha)"
   ]
  },
  {
   "cell_type": "code",
   "execution_count": 127,
   "metadata": {},
   "outputs": [
    {
     "data": {
      "text/plain": [
       "[<matplotlib.lines.Line2D at 0x1fc68a53e80>]"
      ]
     },
     "execution_count": 127,
     "metadata": {},
     "output_type": "execute_result"
    },
    {
     "data": {
      "image/png": "[encoded data removed]",
      "text/plain": [
       "<Figure size 640x480 with 1 Axes>"
      ]
     },
     "metadata": {},
     "output_type": "display_data"
    }
   ],
   "source": [
    "plt.semilogx(np.logspace(-5, 5, 100), scores)"
   ]
  },
  {
   "cell_type": "code",
   "execution_count": 128,
   "metadata": {},
   "outputs": [
    {
     "data": {
      "text/plain": [
       "0.8791208791208791"
      ]
     },
     "execution_count": 128,
     "metadata": {},
     "output_type": "execute_result"
    }
   ],
   "source": [
    "clf = LogisticRegression(random_state=563, penalty='l2', C=alpha, max_iter=1000, solver='liblinear').fit(X_train, y_train)\n",
    "pred = clf.predict(X_test)\n",
    "clf.score(X_test, y_test)"
   ]
  },
  {
   "attachments": {},
   "cell_type": "markdown",
   "metadata": {},
   "source": [
    "# Feature space"
   ]
  },
  {
   "cell_type": "code",
   "execution_count": 129,
   "metadata": {},
   "outputs": [],
   "source": [
    "import tensorflow as tf\n",
    "from tensorflow import keras\n",
    "from keras.utils import FeatureSpace\n",
    "from keras import layers, Sequential, Input, regularizers\n",
    "import pydot\n",
    "import graphviz"
   ]
  },
  {
   "cell_type": "code",
   "execution_count": 130,
   "metadata": {},
   "outputs": [],
   "source": [
    "val_dataframe = df.sample(frac=0.3, random_state=612)\n",
    "train_dataframe = df.drop(val_dataframe.index)"
   ]
  },
  {
   "cell_type": "code",
   "execution_count": 131,
   "metadata": {},
   "outputs": [],
   "source": [
    "def dataframe_to_dataset(dataframe):\n",
    "    dataframe = dataframe.copy()\n",
    "    labels = dataframe.pop('output')\n",
    "    ds = tf.data.Dataset.from_tensor_slices((dict(dataframe), labels))\n",
    "    ds = ds.shuffle(buffer_size=len(dataframe))\n",
    "    return ds"
   ]
  },
  {
   "cell_type": "code",
   "execution_count": 132,
   "metadata": {},
   "outputs": [],
   "source": [
    "train_ds = dataframe_to_dataset(train_dataframe)\n",
    "val_ds = dataframe_to_dataset(val_dataframe)\n"
   ]
  },
  {
   "cell_type": "code",
   "execution_count": 133,
   "metadata": {},
   "outputs": [],
   "source": [
    "train_ds = train_ds.batch(32)\n",
    "val_ds = val_ds.batch(32)"
   ]
  },
  {
   "cell_type": "code",
   "execution_count": 134,
   "metadata": {},
   "outputs": [],
   "source": [
    "feature_space = FeatureSpace(\n",
    "    features={\n",
    "        # Categorical features encoded as integers\n",
    "        \"sex\": FeatureSpace.integer_categorical(num_oov_indices=0),\n",
    "        \"cp\": FeatureSpace.integer_categorical(num_oov_indices=0),\n",
    "        \"fbs\": FeatureSpace.integer_categorical(num_oov_indices=0),\n",
    "        \"restecg\": FeatureSpace.integer_categorical(num_oov_indices=0),\n",
    "        \"exng\": FeatureSpace.integer_categorical(num_oov_indices=0),\n",
    "        \"caa\": FeatureSpace.integer_categorical(num_oov_indices=0),\n",
    "        \"thall\": FeatureSpace.integer_categorical(num_oov_indices=0),\n",
    "\n",
    "        # Numerical features to normalize\n",
    "        \"age\": FeatureSpace.float_discretized(num_bins=30),\n",
    "        \n",
    "        # Numerical features to normalize\n",
    "        \"trtbps\": FeatureSpace.float_normalized(),\n",
    "        \"chol\": FeatureSpace.float_normalized(),\n",
    "        \"oldpeak\": FeatureSpace.float_normalized(),\n",
    "        \"slp\": FeatureSpace.float_normalized(),\n",
    "        \"thalachh\": FeatureSpace.float_normalized(),\n",
    "    },\n",
    "    # Specify feature cross with a custom crossing dim.\n",
    "    crosses=[\n",
    "        FeatureSpace.cross(feature_names=(\"sex\", \"age\"), crossing_dim=64),\n",
    "        FeatureSpace.cross(\n",
    "            feature_names=(\"thall\", \"caa\"),\n",
    "            crossing_dim=16,\n",
    "        ),\n",
    "    ],\n",
    "    output_mode=\"concat\",\n",
    ")"
   ]
  },
  {
   "cell_type": "code",
   "execution_count": 135,
   "metadata": {},
   "outputs": [],
   "source": [
    "train_ds_with_no_labels = train_ds.map(lambda x, _: x)\n",
    "feature_space.adapt(train_ds_with_no_labels)"
   ]
  },
  {
   "cell_type": "code",
   "execution_count": 136,
   "metadata": {},
   "outputs": [],
   "source": [
    "preprocessed_train_ds = train_ds.map(\n",
    "    lambda x, y: (feature_space(x), y), num_parallel_calls=tf.data.AUTOTUNE\n",
    ")\n",
    "preprocessed_train_ds = preprocessed_train_ds.prefetch(tf.data.AUTOTUNE)\n",
    "\n",
    "preprocessed_val_ds = val_ds.map(\n",
    "    lambda x, y: (feature_space(x), y), num_parallel_calls=tf.data.AUTOTUNE\n",
    ")\n",
    "preprocessed_val_ds = preprocessed_val_ds.prefetch(tf.data.AUTOTUNE)"
   ]
  },
  {
   "cell_type": "code",
   "execution_count": 137,
   "metadata": {},
   "outputs": [],
   "source": [
    "dict_inputs = feature_space.get_inputs()\n",
    "encoded_features = feature_space.get_encoded_features()"
   ]
  },
  {
   "cell_type": "code",
   "execution_count": 138,
   "metadata": {},
   "outputs": [],
   "source": [
    "x = keras.layers.Dense(32, activation=\"relu\")(encoded_features)\n",
    "x = keras.layers.Dense(16, activation=\"relu\")(x)\n",
    "x = keras.layers.Dropout(0.4)(x)\n",
    "predictions = keras.layers.Dense(1, activation=\"sigmoid\")(x)"
   ]
  },
  {
   "cell_type": "code",
   "execution_count": 139,
   "metadata": {},
   "outputs": [],
   "source": [
    "training_model = keras.Model(inputs=encoded_features, outputs=predictions)\n",
    "training_model.compile(\n",
    "    optimizer=\"adam\", loss=\"binary_crossentropy\", metrics=[\"accuracy\"]\n",
    ")\n",
    "\n",
    "inference_model = keras.Model(inputs=dict_inputs, outputs=predictions)"
   ]
  },
  {
   "cell_type": "code",
   "execution_count": 140,
   "metadata": {},
   "outputs": [
    {
     "data": {
      "image/png": "[encoded data removed]",
      "text/plain": [
       "<IPython.core.display.Image object>"
      ]
     },
     "execution_count": 140,
     "metadata": {},
     "output_type": "execute_result"
    }
   ],
   "source": [
    "keras.utils.plot_model(training_model, show_shapes=True)"
   ]
  },
  {
   "cell_type": "code",
   "execution_count": 141,
   "metadata": {},
   "outputs": [],
   "source": [
    "epochs = 30\n",
    "\n",
    "callbacks = [\n",
    "    keras.callbacks.ModelCheckpoint(\"save_at_{epoch}.keras\"),\n",
    "    keras.callbacks.EarlyStopping(monitor='val_loss', patience=5, verbose=1,  restore_best_weights=True),\n",
    "    keras.callbacks.ReduceLROnPlateau( monitor=\"val_loss\", factor=0.5, patience=1, verbose=1)\n",
    "]"
   ]
  },
  {
   "cell_type": "code",
   "execution_count": 142,
   "metadata": {},
   "outputs": [
    {
     "name": "stdout",
     "output_type": "stream",
     "text": [
      "Epoch 1/30\n",
      "7/7 - 1s - loss: 0.6880 - accuracy: 0.5236 - val_loss: 0.6729 - val_accuracy: 0.5275 - lr: 0.0010 - 1s/epoch - 167ms/step\n",
      "Epoch 2/30\n",
      "7/7 - 0s - loss: 0.6711 - accuracy: 0.5519 - val_loss: 0.6329 - val_accuracy: 0.7033 - lr: 0.0010 - 377ms/epoch - 54ms/step\n",
      "Epoch 3/30\n",
      "7/7 - 0s - loss: 0.6323 - accuracy: 0.6226 - val_loss: 0.6046 - val_accuracy: 0.8132 - lr: 0.0010 - 344ms/epoch - 49ms/step\n",
      "Epoch 4/30\n",
      "7/7 - 0s - loss: 0.6002 - accuracy: 0.6887 - val_loss: 0.5799 - val_accuracy: 0.8132 - lr: 0.0010 - 389ms/epoch - 56ms/step\n",
      "Epoch 5/30\n",
      "7/7 - 0s - loss: 0.5698 - accuracy: 0.7217 - val_loss: 0.5551 - val_accuracy: 0.8132 - lr: 0.0010 - 359ms/epoch - 51ms/step\n",
      "Epoch 6/30\n",
      "7/7 - 0s - loss: 0.5306 - accuracy: 0.7972 - val_loss: 0.5318 - val_accuracy: 0.8132 - lr: 0.0010 - 338ms/epoch - 48ms/step\n",
      "Epoch 7/30\n",
      "7/7 - 0s - loss: 0.5245 - accuracy: 0.7972 - val_loss: 0.5089 - val_accuracy: 0.8132 - lr: 0.0010 - 301ms/epoch - 43ms/step\n",
      "Epoch 8/30\n",
      "7/7 - 0s - loss: 0.5159 - accuracy: 0.7689 - val_loss: 0.4885 - val_accuracy: 0.8242 - lr: 0.0010 - 340ms/epoch - 49ms/step\n",
      "Epoch 9/30\n",
      "7/7 - 0s - loss: 0.4753 - accuracy: 0.8255 - val_loss: 0.4706 - val_accuracy: 0.8352 - lr: 0.0010 - 353ms/epoch - 50ms/step\n",
      "Epoch 10/30\n",
      "7/7 - 0s - loss: 0.4468 - accuracy: 0.8491 - val_loss: 0.4554 - val_accuracy: 0.8571 - lr: 0.0010 - 300ms/epoch - 43ms/step\n",
      "Epoch 11/30\n",
      "7/7 - 0s - loss: 0.4580 - accuracy: 0.8019 - val_loss: 0.4427 - val_accuracy: 0.8571 - lr: 0.0010 - 348ms/epoch - 50ms/step\n",
      "Epoch 12/30\n",
      "7/7 - 0s - loss: 0.4282 - accuracy: 0.8208 - val_loss: 0.4318 - val_accuracy: 0.8571 - lr: 0.0010 - 335ms/epoch - 48ms/step\n",
      "Epoch 13/30\n",
      "7/7 - 0s - loss: 0.4098 - accuracy: 0.8349 - val_loss: 0.4221 - val_accuracy: 0.8571 - lr: 0.0010 - 336ms/epoch - 48ms/step\n",
      "Epoch 14/30\n",
      "7/7 - 0s - loss: 0.3878 - accuracy: 0.8585 - val_loss: 0.4143 - val_accuracy: 0.8571 - lr: 0.0010 - 316ms/epoch - 45ms/step\n",
      "Epoch 15/30\n",
      "7/7 - 1s - loss: 0.3675 - accuracy: 0.8632 - val_loss: 0.4080 - val_accuracy: 0.8571 - lr: 0.0010 - 528ms/epoch - 75ms/step\n",
      "Epoch 16/30\n",
      "7/7 - 0s - loss: 0.3553 - accuracy: 0.8679 - val_loss: 0.4036 - val_accuracy: 0.8462 - lr: 0.0010 - 358ms/epoch - 51ms/step\n",
      "Epoch 17/30\n",
      "7/7 - 0s - loss: 0.3556 - accuracy: 0.8585 - val_loss: 0.4006 - val_accuracy: 0.8571 - lr: 0.0010 - 326ms/epoch - 47ms/step\n",
      "Epoch 18/30\n",
      "7/7 - 0s - loss: 0.3330 - accuracy: 0.8443 - val_loss: 0.3997 - val_accuracy: 0.8462 - lr: 0.0010 - 349ms/epoch - 50ms/step\n",
      "Epoch 19/30\n",
      "\n",
      "Epoch 19: ReduceLROnPlateau reducing learning rate to 0.0005000000237487257.\n",
      "7/7 - 0s - loss: 0.3429 - accuracy: 0.8538 - val_loss: 0.4003 - val_accuracy: 0.8352 - lr: 0.0010 - 386ms/epoch - 55ms/step\n",
      "Epoch 20/30\n",
      "\n",
      "Epoch 20: ReduceLROnPlateau reducing learning rate to 0.0002500000118743628.\n",
      "7/7 - 0s - loss: 0.3273 - accuracy: 0.8632 - val_loss: 0.4015 - val_accuracy: 0.8352 - lr: 5.0000e-04 - 290ms/epoch - 41ms/step\n",
      "Epoch 21/30\n",
      "\n",
      "Epoch 21: ReduceLROnPlateau reducing learning rate to 0.0001250000059371814.\n",
      "7/7 - 0s - loss: 0.3138 - accuracy: 0.9057 - val_loss: 0.4021 - val_accuracy: 0.8352 - lr: 2.5000e-04 - 331ms/epoch - 47ms/step\n",
      "Epoch 22/30\n",
      "\n",
      "Epoch 22: ReduceLROnPlateau reducing learning rate to 6.25000029685907e-05.\n",
      "7/7 - 0s - loss: 0.2946 - accuracy: 0.9057 - val_loss: 0.4023 - val_accuracy: 0.8352 - lr: 1.2500e-04 - 333ms/epoch - 48ms/step\n",
      "Epoch 23/30\n",
      "Restoring model weights from the end of the best epoch: 18.\n",
      "\n",
      "Epoch 23: ReduceLROnPlateau reducing learning rate to 3.125000148429535e-05.\n",
      "7/7 - 0s - loss: 0.3195 - accuracy: 0.8962 - val_loss: 0.4024 - val_accuracy: 0.8352 - lr: 6.2500e-05 - 352ms/epoch - 50ms/step\n",
      "Epoch 23: early stopping\n"
     ]
    }
   ],
   "source": [
    "history = training_model.fit(\n",
    "    preprocessed_train_ds, epochs=epochs, callbacks=callbacks, validation_data=preprocessed_val_ds, verbose=2\n",
    ")"
   ]
  },
  {
   "cell_type": "code",
   "execution_count": 143,
   "metadata": {},
   "outputs": [
    {
     "data": {
      "text/plain": [
       "<matplotlib.legend.Legend at 0x1fc5c01dbd0>"
      ]
     },
     "execution_count": 143,
     "metadata": {},
     "output_type": "execute_result"
    },
    {
     "data": {
      "image/png": "[encoded data removed]",
      "text/plain": [
       "<Figure size 1500x500 with 2 Axes>"
      ]
     },
     "metadata": {},
     "output_type": "display_data"
    }
   ],
   "source": [
    "fig, ax = plt.subplots(1, 2, figsize=(15, 5))\n",
    "\n",
    "ax[0].plot(history.history['accuracy'])\n",
    "ax[0].plot(history.history['val_accuracy'])\n",
    "ax[0].set_ylabel('accuracy')\n",
    "ax[0].set_xlabel('epoch')\n",
    "ax[0].legend(['train', 'test'])\n",
    "\n",
    "\n",
    "ax[1].plot(history.history['loss'])\n",
    "ax[1].plot(history.history['val_loss'])\n",
    "ax[1].set_ylabel('loss')\n",
    "ax[1].set_xlabel('epoch')\n",
    "ax[1].legend(['train', 'test'])"
   ]
  },
  {
   "cell_type": "code",
   "execution_count": 144,
   "metadata": {},
   "outputs": [
    {
     "name": "stdout",
     "output_type": "stream",
     "text": [
      "0.9056603908538818\n",
      "0.8571428656578064\n"
     ]
    }
   ],
   "source": [
    "print(max(history.history['accuracy']))\n",
    "print(max(history.history['val_accuracy']))"
   ]
  }
 ],
 "metadata": {
  "kernelspec": {
   "display_name": ".venv",
   "language": "python",
   "name": "python3"
  },
  "language_info": {
   "codemirror_mode": {
    "name": "ipython",
    "version": 3
   },
   "file_extension": ".py",
   "mimetype": "text/x-python",
   "name": "python",
   "nbconvert_exporter": "python",
   "pygments_lexer": "ipython3",
   "version": "3.10.5"
  },
  "orig_nbformat": 4
 },
 "nbformat": 4,
 "nbformat_minor": 2
}
